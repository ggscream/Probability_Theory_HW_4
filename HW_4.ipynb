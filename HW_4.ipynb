{
 "cells": [
  {
   "attachments": {},
   "cell_type": "markdown",
   "metadata": {},
   "source": [
    "1. Случайная непрерывная величина A имеет равномерное распределение на промежутке [200, 800]. Найдите ее среднее значение и дисперсию."
   ]
  },
  {
   "cell_type": "code",
   "execution_count": 1,
   "metadata": {},
   "outputs": [
    {
     "name": "stdout",
     "output_type": "stream",
     "text": [
      "500.0 30000.0\n"
     ]
    }
   ],
   "source": [
    "average = (200 + 800) / 2\n",
    "dispersion = pow(800 - 200, 2) / 12\n",
    "\n",
    "print(average, dispersion)"
   ]
  },
  {
   "attachments": {},
   "cell_type": "markdown",
   "metadata": {},
   "source": [
    "2. О случайной непрерывной равномерно распределенной величине B известно, что ее дисперсия равна 0.2. Можно ли найти правую границу величины B и ее среднее значение зная, что левая граница равна 0.5? Если да, найдите ее."
   ]
  },
  {
   "cell_type": "code",
   "execution_count": 3,
   "metadata": {},
   "outputs": [
    {
     "name": "stdout",
     "output_type": "stream",
     "text": [
      "2.049193338482967 0.20000000000000004 1.2745966692414834\n"
     ]
    }
   ],
   "source": [
    "right_edge = pow(12 * 0.2, 0.5) + 0.5\n",
    "\n",
    "# проверим\n",
    "dispersion_2 = pow(right_edge - 0.5, 2) / 12\n",
    "\n",
    "average_2 = (right_edge + 0.5) / 2\n",
    "\n",
    "print(right_edge, dispersion_2, average_2)"
   ]
  },
  {
   "attachments": {},
   "cell_type": "markdown",
   "metadata": {},
   "source": [
    "3. Непрерывная случайная величина X распределена нормально и задана плотностью распределения f(x) = (1 / (4 * sqrt(2pi))) * exp((-(x+2)**2) / 32) Найдите: а). M(X) б). D(X) в). std(X) (среднее квадратичное отклонение)"
   ]
  },
  {
   "cell_type": "code",
   "execution_count": 4,
   "metadata": {},
   "outputs": [
    {
     "name": "stdout",
     "output_type": "stream",
     "text": [
      "4 -2 16\n"
     ]
    }
   ],
   "source": [
    "std_X = 4 # Из функции плотности распределения\n",
    "M_X = -2 # Из функции плотности распределения\n",
    "D_X = std_X * std_X\n",
    "\n",
    "print(std_X, M_X, D_X)"
   ]
  },
  {
   "attachments": {},
   "cell_type": "markdown",
   "metadata": {},
   "source": [
    "4. Рост взрослого населения города X имеет нормальное распределение. Причем, средний рост равен 174 см, а среднее квадратичное отклонение равно 8 см. Какова вероятность того, что случайным образом выбранный взрослый человек имеет рост: а). больше 182 см б). больше 190 см в). от 166 см до 190 см г). от 166 см до 182 см д). от 158 см до 190 см е). не выше 150 см или не ниже 190 см ж). не выше 150 см или не ниже 198 см з). ниже 166 см."
   ]
  },
  {
   "cell_type": "code",
   "execution_count": 5,
   "metadata": {},
   "outputs": [
    {
     "name": "stdout",
     "output_type": "stream",
     "text": [
      "1.0 2.0 3.0 2.0 4.0 -1.0 0.0 -1.0\n"
     ]
    }
   ],
   "source": [
    "# Z = (x - mu) / sigma, где mu = 174, а sigma = 8, вместо x - значения.\n",
    "\n",
    "def Z(num, mu=174, sigma=8):\n",
    "    return (num - mu) / sigma\n",
    "\n",
    "p_1 = Z(182) # 0.1587 = 15.87%\n",
    "p_2 = Z(190) # 0.0228 = 2.28% \n",
    "p_3 = Z(190) - Z(166) # 0.9772 - 0.1587 = 0.8185 = 81.85%\n",
    "p_4 = Z(182) - Z(166) # 0.8413 - 0.1587 = 0.6826 = 68.26%\n",
    "p_5 = Z(190) - Z(158) # 0.9772 - 0.0228 = 0.9544 = 95.44%\n",
    "p_6 = Z(150) + Z(190) # 0.0013 + 0.0228 = 0.0241 = 2.41%\n",
    "p_7 = Z(150) + Z(198) # 0.0013 + 0.0013 = 0.0026 = 0.26%\n",
    "p_8 = Z(166) # 0.1587 = 15.87%\n",
    "\n",
    "# значения Z берутся из таблиц распределения"
   ]
  },
  {
   "attachments": {},
   "cell_type": "markdown",
   "metadata": {},
   "source": [
    "5. На сколько сигм (средних квадратичных отклонений) отклоняется рост человека, равный 190 см, от математического ожидания роста в популяции, в которой M(X) = 178 см и D(X) = 25 кв.см?"
   ]
  },
  {
   "cell_type": "code",
   "execution_count": 6,
   "metadata": {},
   "outputs": [
    {
     "name": "stdout",
     "output_type": "stream",
     "text": [
      "2.4\n"
     ]
    }
   ],
   "source": [
    "from math import sqrt\n",
    "\n",
    "def Z(x, mu, sigma):\n",
    "    return (x - mu) / sigma\n",
    "\n",
    "\n",
    "sigma = sqrt(25)\n",
    "\n",
    "print(Z(190, 178, sigma))"
   ]
  }
 ],
 "metadata": {
  "kernelspec": {
   "display_name": "Python 3",
   "language": "python",
   "name": "python3"
  },
  "language_info": {
   "codemirror_mode": {
    "name": "ipython",
    "version": 3
   },
   "file_extension": ".py",
   "mimetype": "text/x-python",
   "name": "python",
   "nbconvert_exporter": "python",
   "pygments_lexer": "ipython3",
   "version": "3.8.2"
  },
  "orig_nbformat": 4,
  "vscode": {
   "interpreter": {
    "hash": "31f2aee4e71d21fbe5cf8b01ff0e069b9275f58929596ceb00d14d90e3e16cd6"
   }
  }
 },
 "nbformat": 4,
 "nbformat_minor": 2
}
